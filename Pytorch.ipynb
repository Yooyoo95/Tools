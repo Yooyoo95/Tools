{
  "nbformat": 4,
  "nbformat_minor": 0,
  "metadata": {
    "kernelspec": {
      "display_name": "Python 3",
      "language": "python",
      "name": "python3"
    },
    "language_info": {
      "codemirror_mode": {
        "name": "ipython",
        "version": 3
      },
      "file_extension": ".py",
      "mimetype": "text/x-python",
      "name": "python",
      "nbconvert_exporter": "python",
      "pygments_lexer": "ipython3",
      "version": "3.6.6"
    },
    "colab": {
      "name": "Pytorch.ipynb",
      "provenance": [],
      "collapsed_sections": [],
      "toc_visible": true,
      "include_colab_link": true
    },
    "accelerator": "GPU"
  },
  "cells": [
    {
      "cell_type": "markdown",
      "metadata": {
        "id": "view-in-github",
        "colab_type": "text"
      },
      "source": [
        "<a href=\"https://colab.research.google.com/github/Yooyoo95/Tools/blob/master/Pytorch.ipynb\" target=\"_parent\"><img src=\"https://colab.research.google.com/assets/colab-badge.svg\" alt=\"Open In Colab\"/></a>"
      ]
    },
    {
      "cell_type": "code",
      "metadata": {
        "id": "82i4sHjFsnbS"
      },
      "source": [
        "%matplotlib inline"
      ],
      "execution_count": 1,
      "outputs": []
    },
    {
      "cell_type": "markdown",
      "metadata": {
        "id": "uCg5X3BvsnbW"
      },
      "source": [
        "\n",
        "What is PyTorch?\n",
        "================\n",
        "\n",
        "Python 기반의 과학 연산 패키지로 다음과 같은 두 집단을 대상으로 합니다:\n",
        "\n",
        "-  NumPy를 대체하면서 GPU를 이용한 연산이 필요한 경우\n",
        "-  최대한의 유연성과 속도를 제공하는 딥러닝 연구 플랫폼이 필요한 경우\n",
        "\n",
        "Getting Started\n",
        "---------------\n",
        "\n",
        "Tensor는 NumPy의 ndarray와 유사하며, 추가로 GPU를 사용한 연산 가속도 가능합니다.\n",
        "\n"
      ]
    },
    {
      "cell_type": "code",
      "metadata": {
        "id": "ZZoDnlxosnbX",
        "colab": {
          "base_uri": "https://localhost:8080/",
          "height": 35
        },
        "outputId": "7fa32f44-a45d-4e54-b115-cbb73ca09336"
      },
      "source": [
        "from __future__ import print_function\n",
        "import torch\n",
        "\n",
        "torch.__version__"
      ],
      "execution_count": null,
      "outputs": [
        {
          "output_type": "execute_result",
          "data": {
            "application/vnd.google.colaboratory.intrinsic+json": {
              "type": "string"
            },
            "text/plain": [
              "'1.7.0+cu101'"
            ]
          },
          "metadata": {
            "tags": []
          },
          "execution_count": 1
        }
      ]
    },
    {
      "cell_type": "markdown",
      "metadata": {
        "id": "emUXTaC5snba"
      },
      "source": [
        "초기화되지 않은 5x3 행렬을 생성합니다:\n",
        "\n"
      ]
    },
    {
      "cell_type": "code",
      "metadata": {
        "id": "LsX9dpsnsnba",
        "colab": {
          "base_uri": "https://localhost:8080/"
        },
        "outputId": "268a0cf2-6253-490e-ed0a-19c0e3b46b0b"
      },
      "source": [
        "x = torch.empty(5, 3)\n",
        "print(x)"
      ],
      "execution_count": null,
      "outputs": [
        {
          "output_type": "stream",
          "text": [
            "tensor([[8.0759e+33, 3.0880e-41, 3.3631e-44],\n",
            "        [0.0000e+00,        nan, 3.0880e-41],\n",
            "        [1.1578e+27, 1.1362e+30, 7.1547e+22],\n",
            "        [4.5828e+30, 1.2121e+04, 7.1846e+22],\n",
            "        [9.2198e-39, 7.0374e+22, 2.7598e+33]])\n"
          ],
          "name": "stdout"
        }
      ]
    },
    {
      "cell_type": "markdown",
      "metadata": {
        "id": "DuS8_CjRsnbe"
      },
      "source": [
        "무작위로 초기화된 행렬을 생성합니다:\n",
        "\n"
      ]
    },
    {
      "cell_type": "code",
      "metadata": {
        "id": "-gDc29L4snbf",
        "colab": {
          "base_uri": "https://localhost:8080/"
        },
        "outputId": "6049ef99-b145-4d6f-b0fe-f1ba2cc899a3"
      },
      "source": [
        "x = torch.randn(5, 3)\n",
        "print(x)\n",
        "x = torch.rand(5, 3)\n",
        "print(x)"
      ],
      "execution_count": null,
      "outputs": [
        {
          "output_type": "stream",
          "text": [
            "tensor([[ 0.4998, -0.0123,  1.2065],\n",
            "        [ 0.4659, -1.1119, -1.0469],\n",
            "        [ 0.3311,  0.5770, -0.9808],\n",
            "        [-1.6933, -0.4311,  1.7591],\n",
            "        [ 0.3346,  0.6398, -0.9855]])\n",
            "tensor([[0.4225, 0.6696, 0.4458],\n",
            "        [0.5661, 0.1570, 0.6661],\n",
            "        [0.9700, 0.3892, 0.5740],\n",
            "        [0.8643, 0.8190, 0.6379],\n",
            "        [0.4663, 0.0164, 0.3621]])\n"
          ],
          "name": "stdout"
        }
      ]
    },
    {
      "cell_type": "markdown",
      "metadata": {
        "id": "EnDW3xa2snbh"
      },
      "source": [
        "dtype이 long이고 0으로 채워진 행렬을 생성합니다:\n",
        "\n"
      ]
    },
    {
      "cell_type": "code",
      "metadata": {
        "id": "ooNlMfAIsnbi",
        "colab": {
          "base_uri": "https://localhost:8080/"
        },
        "outputId": "4e931175-99aa-447f-d03f-f82a76166986"
      },
      "source": [
        "x = torch.zeros(5, 3, dtype=torch.long)\n",
        "print(x)"
      ],
      "execution_count": null,
      "outputs": [
        {
          "output_type": "stream",
          "text": [
            "tensor([[0, 0, 0],\n",
            "        [0, 0, 0],\n",
            "        [0, 0, 0],\n",
            "        [0, 0, 0],\n",
            "        [0, 0, 0]])\n"
          ],
          "name": "stdout"
        }
      ]
    },
    {
      "cell_type": "code",
      "metadata": {
        "colab": {
          "base_uri": "https://localhost:8080/"
        },
        "id": "AkcOHXD9KCyq",
        "outputId": "376b61f4-2b31-4083-f17d-a99c68cb229b"
      },
      "source": [
        "x = torch.ones(5, 3, dtype=torch.long)\n",
        "print(x)"
      ],
      "execution_count": null,
      "outputs": [
        {
          "output_type": "stream",
          "text": [
            "tensor([[1, 1, 1],\n",
            "        [1, 1, 1],\n",
            "        [1, 1, 1],\n",
            "        [1, 1, 1],\n",
            "        [1, 1, 1]])\n"
          ],
          "name": "stdout"
        }
      ]
    },
    {
      "cell_type": "markdown",
      "metadata": {
        "id": "yrjRCiCZsnbk"
      },
      "source": [
        "데이터로부터 tensor를 직접 생성합니다:\n",
        "\n"
      ]
    },
    {
      "cell_type": "code",
      "metadata": {
        "id": "nc0Xx93Nsnbk",
        "colab": {
          "base_uri": "https://localhost:8080/"
        },
        "outputId": "97c4e58c-eb8f-49d9-e291-90072f151d4b"
      },
      "source": [
        "x = torch.tensor([5.5, 3])\n",
        "print(x)"
      ],
      "execution_count": null,
      "outputs": [
        {
          "output_type": "stream",
          "text": [
            "tensor([5.5000, 3.0000])\n"
          ],
          "name": "stdout"
        }
      ]
    },
    {
      "cell_type": "markdown",
      "metadata": {
        "id": "dXeA4TPFsnbn"
      },
      "source": [
        "또는 존재하는 tensor를 바탕으로 tensor를 만듭니다. \n",
        "이 메소드(method)들은 사용자로부터 제공된 새로운 값이 없는 한, 입력 tensor의 속성들(예. dtype)을 재사용합니다.\n"
      ]
    },
    {
      "cell_type": "code",
      "metadata": {
        "id": "BpiM1li7snbn",
        "colab": {
          "base_uri": "https://localhost:8080/"
        },
        "outputId": "4ee8224b-0c85-4dbd-af97-9ce91cef13b2"
      },
      "source": [
        "x = xe.new_ones(5, 3, dtype=torch.double)      # new_* methods take in sizes\n",
        "print(x)\n",
        "\n",
        "x = torch.randn_like(x, dtype=torch.float)    # override dtype!\n",
        "print(x)                                      # result has the same size"
      ],
      "execution_count": null,
      "outputs": [
        {
          "output_type": "stream",
          "text": [
            "tensor([[1., 1., 1.],\n",
            "        [1., 1., 1.],\n",
            "        [1., 1., 1.],\n",
            "        [1., 1., 1.],\n",
            "        [1., 1., 1.]], dtype=torch.float64)\n",
            "tensor([[-0.8039, -0.0473, -0.2606],\n",
            "        [-0.6666, -0.2164,  1.5497],\n",
            "        [-0.0673, -0.6175,  1.4867],\n",
            "        [ 1.8226, -0.9508,  2.0158],\n",
            "        [ 1.1701, -1.5394, -0.1466]])\n"
          ],
          "name": "stdout"
        }
      ]
    },
    {
      "cell_type": "markdown",
      "metadata": {
        "id": "F6kOn4Oosnbq"
      },
      "source": [
        "행렬의 크기를 구합니다:\n",
        "\n"
      ]
    },
    {
      "cell_type": "code",
      "metadata": {
        "id": "1bXCTCXpsnbq",
        "colab": {
          "base_uri": "https://localhost:8080/"
        },
        "outputId": "0f16d6f3-a388-4aa9-d8f5-1de817ed7659"
      },
      "source": [
        "print(x.size())\n",
        "print(x.shape)"
      ],
      "execution_count": null,
      "outputs": [
        {
          "output_type": "stream",
          "text": [
            "torch.Size([5, 3])\n",
            "torch.Size([5, 3])\n"
          ],
          "name": "stdout"
        }
      ]
    },
    {
      "cell_type": "markdown",
      "metadata": {
        "id": "Jq9jZCRKsnbu"
      },
      "source": [
        "\n",
        "덧셈: 문법1"
      ]
    },
    {
      "cell_type": "code",
      "metadata": {
        "id": "uCWXyD2Hsnbu",
        "colab": {
          "base_uri": "https://localhost:8080/"
        },
        "outputId": "5f99a9e9-253b-4eaf-d36a-db7254166a50"
      },
      "source": [
        "y = torch.rand(5, 3)\n",
        "print(x)\n",
        "print(y)\n",
        "print(x + y)"
      ],
      "execution_count": null,
      "outputs": [
        {
          "output_type": "stream",
          "text": [
            "tensor([[8.0759e+33, 3.0880e-41, 3.3631e-44],\n",
            "        [0.0000e+00,        nan, 3.0880e-41],\n",
            "        [1.1578e+27, 1.1362e+30, 7.1547e+22],\n",
            "        [4.5828e+30, 1.2121e+04, 7.1846e+22],\n",
            "        [9.2198e-39, 7.0374e+22, 2.7598e+33]])\n",
            "tensor([[0.4487, 0.6315, 0.0037],\n",
            "        [0.5335, 0.4627, 0.2166],\n",
            "        [0.4204, 0.5041, 0.9803],\n",
            "        [0.7277, 0.1691, 0.2528],\n",
            "        [0.1945, 0.3890, 0.1933]])\n",
            "tensor([[8.0759e+33, 6.3154e-01, 3.7315e-03],\n",
            "        [5.3345e-01,        nan, 2.1659e-01],\n",
            "        [1.1578e+27, 1.1362e+30, 7.1547e+22],\n",
            "        [4.5828e+30, 1.2121e+04, 7.1846e+22],\n",
            "        [1.9454e-01, 7.0374e+22, 2.7598e+33]])\n"
          ],
          "name": "stdout"
        }
      ]
    },
    {
      "cell_type": "markdown",
      "metadata": {
        "id": "DFu4Lo3csnbx"
      },
      "source": [
        "덧셈: 문법2\n",
        "\n"
      ]
    },
    {
      "cell_type": "code",
      "metadata": {
        "id": "DzKHzVOBsnbx",
        "colab": {
          "base_uri": "https://localhost:8080/"
        },
        "outputId": "167077ec-bdc0-4a6a-f0fe-0264401b20fa"
      },
      "source": [
        "print(torch.add(x, y))"
      ],
      "execution_count": null,
      "outputs": [
        {
          "output_type": "stream",
          "text": [
            "tensor([[8.0759e+33, 6.3154e-01, 3.7315e-03],\n",
            "        [5.3345e-01,        nan, 2.1659e-01],\n",
            "        [1.1578e+27, 1.1362e+30, 7.1547e+22],\n",
            "        [4.5828e+30, 1.2121e+04, 7.1846e+22],\n",
            "        [1.9454e-01, 7.0374e+22, 2.7598e+33]])\n"
          ],
          "name": "stdout"
        }
      ]
    },
    {
      "cell_type": "markdown",
      "metadata": {
        "id": "Ovk3r-8Psnbz"
      },
      "source": [
        "덧셈: 결과 tensor를 인자로 제공\n"
      ]
    },
    {
      "cell_type": "code",
      "metadata": {
        "id": "ZOB9erkpsnbz",
        "colab": {
          "base_uri": "https://localhost:8080/"
        },
        "outputId": "5c5d42d1-4e69-4c08-d28a-28c61f5b5390"
      },
      "source": [
        "result = torch.empty(5, 3)\n",
        "print(result)\n",
        "\n",
        "torch.add(x, y, out=result)\n",
        "print(result)"
      ],
      "execution_count": null,
      "outputs": [
        {
          "output_type": "stream",
          "text": [
            "tensor([[8.0760e+33, 3.0880e-41, 1.4714e-43],\n",
            "        [1.5414e-43, 1.6255e-43, 5.6052e-44],\n",
            "        [1.5975e-43, 1.4153e-43, 1.6115e-43],\n",
            "        [1.6395e-43, 1.5134e-43, 1.6255e-43],\n",
            "        [5.7453e-44, 2.7598e+33, 2.7598e+33]])\n",
            "tensor([[8.0759e+33, 6.3154e-01, 3.7315e-03],\n",
            "        [5.3345e-01,        nan, 2.1659e-01],\n",
            "        [1.1578e+27, 1.1362e+30, 7.1547e+22],\n",
            "        [4.5828e+30, 1.2121e+04, 7.1846e+22],\n",
            "        [1.9454e-01, 7.0374e+22, 2.7598e+33]])\n"
          ],
          "name": "stdout"
        }
      ]
    },
    {
      "cell_type": "markdown",
      "metadata": {
        "id": "HN2T-jLrsnb1"
      },
      "source": [
        "덧셈: 바꿔치기(In-place) 방식\n"
      ]
    },
    {
      "cell_type": "code",
      "metadata": {
        "id": "Lf3t8CEHsnb2",
        "colab": {
          "base_uri": "https://localhost:8080/"
        },
        "outputId": "b2a4f15d-c482-4bd2-c015-a883e22684e3"
      },
      "source": [
        "# adds x to y\n",
        "print(y)\n",
        "y.add_(x)\n",
        "print(y)"
      ],
      "execution_count": null,
      "outputs": [
        {
          "output_type": "stream",
          "text": [
            "tensor([[8.0759e+33, 6.3154e-01, 3.7315e-03],\n",
            "        [5.3345e-01,        nan, 2.1659e-01],\n",
            "        [1.1578e+27, 1.1362e+30, 7.1547e+22],\n",
            "        [4.5828e+30, 1.2121e+04, 7.1846e+22],\n",
            "        [1.9454e-01, 7.0374e+22, 2.7598e+33]])\n",
            "tensor([[1.6152e+34, 6.3154e-01, 3.7315e-03],\n",
            "        [5.3345e-01,        nan, 2.1659e-01],\n",
            "        [2.3157e+27, 2.2723e+30, 1.4309e+23],\n",
            "        [9.1656e+30, 2.4242e+04, 1.4369e+23],\n",
            "        [1.9454e-01, 1.4075e+23, 5.5197e+33]])\n"
          ],
          "name": "stdout"
        }
      ]
    },
    {
      "cell_type": "markdown",
      "metadata": {
        "id": "Otzt2-mMsnb4"
      },
      "source": [
        "<div class=\"alert alert-info\"><h4>Note</h4><p>바꿔치기(In-place) 방식으로 tensor의 값을 변경하는 연산은 _ 를 접미사로 갖습니다.<p>\n",
        "예: x.copy_(y), x.t_() 는 x 를 변경합니다.\n",
        "\n",
        "<p>\n",
        "NumPy스러운 인덱싱 표기 방법을 사용할 수도 있습니다!\n"
      ]
    },
    {
      "cell_type": "code",
      "metadata": {
        "id": "kKg180otsnb4",
        "colab": {
          "base_uri": "https://localhost:8080/"
        },
        "outputId": "6599278b-b6a8-4126-a400-ef4b2b255bc8"
      },
      "source": [
        "print(x)\n",
        "print(x[:, 1])"
      ],
      "execution_count": null,
      "outputs": [
        {
          "output_type": "stream",
          "text": [
            "tensor([[-0.8039, -0.0473, -0.2606],\n",
            "        [-0.6666, -0.2164,  1.5497],\n",
            "        [-0.0673, -0.6175,  1.4867],\n",
            "        [ 1.8226, -0.9508,  2.0158],\n",
            "        [ 1.1701, -1.5394, -0.1466]])\n",
            "tensor([-0.0473, -0.2164, -0.6175, -0.9508, -1.5394])\n"
          ],
          "name": "stdout"
        }
      ]
    },
    {
      "cell_type": "markdown",
      "metadata": {
        "id": "FDLx9bI3snb7"
      },
      "source": [
        "크기 변경: tensor의 크기(size)나 모양(shape)을 변경하고 싶다면 torch.view 를 사용합니다:\n"
      ]
    },
    {
      "cell_type": "code",
      "metadata": {
        "id": "DBjVLCv5snb7",
        "colab": {
          "base_uri": "https://localhost:8080/"
        },
        "outputId": "4a46eeec-47f4-4207-f049-21cc56c873ff"
      },
      "source": [
        "\n",
        "x = torch.randn(4, 4)\n",
        "print(x)\n",
        "\n",
        "y = x.view(16)\n",
        "z = y.view(-1, 2)  # the size -1 is inferred from other dimensions\n",
        "print(y)\n",
        "print(z)\n",
        "print(y.size(), z.size())"
      ],
      "execution_count": null,
      "outputs": [
        {
          "output_type": "stream",
          "text": [
            "tensor([[-0.6237,  0.0898, -0.3996, -1.0912],\n",
            "        [-0.0554, -0.3758,  0.0531, -0.7380],\n",
            "        [ 0.9045,  0.3169, -1.4218,  0.3854],\n",
            "        [ 0.4862,  1.7625,  1.3723, -0.6708]])\n",
            "tensor([-0.6237,  0.0898, -0.3996, -1.0912, -0.0554, -0.3758,  0.0531, -0.7380,\n",
            "         0.9045,  0.3169, -1.4218,  0.3854,  0.4862,  1.7625,  1.3723, -0.6708])\n",
            "tensor([[-0.6237,  0.0898],\n",
            "        [-0.3996, -1.0912],\n",
            "        [-0.0554, -0.3758],\n",
            "        [ 0.0531, -0.7380],\n",
            "        [ 0.9045,  0.3169],\n",
            "        [-1.4218,  0.3854],\n",
            "        [ 0.4862,  1.7625],\n",
            "        [ 1.3723, -0.6708]])\n",
            "torch.Size([16]) torch.Size([8, 2])\n"
          ],
          "name": "stdout"
        }
      ]
    },
    {
      "cell_type": "code",
      "metadata": {
        "colab": {
          "base_uri": "https://localhost:8080/",
          "height": 172
        },
        "id": "fWKHTbcD9Tb3",
        "outputId": "75608798-ac9a-4f4c-b09c-4017b1f0650b"
      },
      "source": [
        "z = y.view(-1,5)"
      ],
      "execution_count": null,
      "outputs": [
        {
          "output_type": "error",
          "ename": "RuntimeError",
          "evalue": "ignored",
          "traceback": [
            "\u001b[0;31m---------------------------------------------------------------------------\u001b[0m",
            "\u001b[0;31mRuntimeError\u001b[0m                              Traceback (most recent call last)",
            "\u001b[0;32m<ipython-input-14-aa53b183a340>\u001b[0m in \u001b[0;36m<module>\u001b[0;34m()\u001b[0m\n\u001b[0;32m----> 1\u001b[0;31m \u001b[0mz\u001b[0m \u001b[0;34m=\u001b[0m \u001b[0my\u001b[0m\u001b[0;34m.\u001b[0m\u001b[0mview\u001b[0m\u001b[0;34m(\u001b[0m\u001b[0;34m-\u001b[0m\u001b[0;36m1\u001b[0m\u001b[0;34m,\u001b[0m\u001b[0;36m5\u001b[0m\u001b[0;34m)\u001b[0m\u001b[0;34m\u001b[0m\u001b[0;34m\u001b[0m\u001b[0m\n\u001b[0m",
            "\u001b[0;31mRuntimeError\u001b[0m: shape '[-1, 5]' is invalid for input of size 16"
          ]
        }
      ]
    },
    {
      "cell_type": "markdown",
      "metadata": {
        "id": "dDDWiXtXsnb9"
      },
      "source": [
        "만약 tensor에 하나의 값만 존재한다면, .item() 을 사용하면 숫자 값을 얻을 수 있습니다.\n",
        "\n"
      ]
    },
    {
      "cell_type": "code",
      "metadata": {
        "id": "WIhw3GDfsnb-",
        "colab": {
          "base_uri": "https://localhost:8080/"
        },
        "outputId": "cd34eb28-d349-4b2c-8b14-d9d78e05267a"
      },
      "source": [
        "x = torch.randn(1)\n",
        "print(x)\n",
        "print(type(x), type(x.item()))\n",
        "print(x.item())\n"
      ],
      "execution_count": null,
      "outputs": [
        {
          "output_type": "stream",
          "text": [
            "tensor([1.1069])\n",
            "<class 'torch.Tensor'> <class 'float'>\n",
            "1.10688054561615\n"
          ],
          "name": "stdout"
        }
      ]
    },
    {
      "cell_type": "markdown",
      "metadata": {
        "id": "_qy7VEshsncB"
      },
      "source": [
        "**읽을 거리:**\n",
        "\n",
        "\n",
        "  전치(transposing), 인덱싱(indexing), 슬라이싱(slicing), 수학 계산, 선형 대수, 난수(random number) 등과 같은 100가지 이상의 Tensor 연산은\n",
        "  `여기 <http://pytorch.org/docs/torch>` 에 설명되어 있습니다.\n",
        "\n",
        "NumPy 변환(Bridge)\n",
        "------------\n",
        "\n",
        "Torch Tensor를 NumPy 배열(array)로 변환하거나, 그 반대로 하는 것은 매우 쉽습니다.\n",
        "\n",
        "(CPU 상의) Torch Tensor와 NumPy 배열은 저장 공간을 공유하기 때문에, 하나를 변경하면 다른 하나도 변경됩니다.\n",
        "\n",
        "- Torch Tensor를 NumPy 배열로 변환하기\n",
        "\n"
      ]
    },
    {
      "cell_type": "code",
      "metadata": {
        "id": "rPKFva3ssncB",
        "colab": {
          "base_uri": "https://localhost:8080/"
        },
        "outputId": "2ccaf4c4-3176-4a8f-ec67-bae3e9f3c465"
      },
      "source": [
        "a = torch.ones(5)\n",
        "print(a)"
      ],
      "execution_count": null,
      "outputs": [
        {
          "output_type": "stream",
          "text": [
            "tensor([1., 1., 1., 1., 1.])\n"
          ],
          "name": "stdout"
        }
      ]
    },
    {
      "cell_type": "code",
      "metadata": {
        "id": "ZCPCzALIsncD",
        "colab": {
          "base_uri": "https://localhost:8080/"
        },
        "outputId": "56768a40-5d7a-49e4-ea84-1b6edfcf2c65"
      },
      "source": [
        "b = a.numpy()\n",
        "print(b)"
      ],
      "execution_count": null,
      "outputs": [
        {
          "output_type": "stream",
          "text": [
            "[1. 1. 1. 1. 1.]\n"
          ],
          "name": "stdout"
        }
      ]
    },
    {
      "cell_type": "markdown",
      "metadata": {
        "id": "j-8hzE25sncF"
      },
      "source": [
        "NumPy 배열의 값이 어떻게 변하는지 확인해보세요.\n",
        "\n"
      ]
    },
    {
      "cell_type": "code",
      "metadata": {
        "id": "Wsznw1eqsncF",
        "colab": {
          "base_uri": "https://localhost:8080/"
        },
        "outputId": "6846221d-9fc6-48e0-8272-6d42c20c094b"
      },
      "source": [
        "a.add_(1)\n",
        "print(a)\n",
        "print(b)"
      ],
      "execution_count": null,
      "outputs": [
        {
          "output_type": "stream",
          "text": [
            "tensor([2., 2., 2., 2., 2.])\n",
            "[2. 2. 2. 2. 2.]\n"
          ],
          "name": "stdout"
        }
      ]
    },
    {
      "cell_type": "code",
      "metadata": {
        "colab": {
          "base_uri": "https://localhost:8080/"
        },
        "id": "BBFrx-f0QQil",
        "outputId": "b43b3fbc-033d-4a89-c233-0fb54f0cb131"
      },
      "source": [
        "temp = a.clone()\n",
        "temp_numpy = temp.numpy()\n",
        "\n",
        "a.add_(1)\n",
        "print(a)\n",
        "print(temp_numpy)"
      ],
      "execution_count": null,
      "outputs": [
        {
          "output_type": "stream",
          "text": [
            "tensor([3., 3., 3., 3., 3.])\n",
            "[2. 2. 2. 2. 2.]\n"
          ],
          "name": "stdout"
        }
      ]
    },
    {
      "cell_type": "markdown",
      "metadata": {
        "id": "pe446bKMsncH"
      },
      "source": [
        " - NumPy 배열을 Torch Tensor로 변환하기  \n",
        " \n",
        "NumPy(np) 배열을 변경하면 Torch Tensor의 값도 자동 변경되는 것을 확인해보세요.\n",
        "\n"
      ]
    },
    {
      "cell_type": "code",
      "metadata": {
        "id": "1T3FiWWusncI",
        "colab": {
          "base_uri": "https://localhost:8080/"
        },
        "outputId": "202ac692-7f24-47d6-f234-8e47bd071acd"
      },
      "source": [
        "import numpy as np\n",
        "a = np.ones(5)\n",
        "print(a)\n",
        "b = torch.from_numpy(a)\n",
        "np.add(a, 1, out=a)\n",
        "print(a)\n",
        "print(b)\n"
      ],
      "execution_count": null,
      "outputs": [
        {
          "output_type": "stream",
          "text": [
            "[1. 1. 1. 1. 1.]\n",
            "[2. 2. 2. 2. 2.]\n",
            "tensor([2., 2., 2., 2., 2.], dtype=torch.float64)\n"
          ],
          "name": "stdout"
        }
      ]
    },
    {
      "cell_type": "markdown",
      "metadata": {
        "id": "dc7afeqWsncJ"
      },
      "source": [
        "CharTensor를 제외한 CPU 상의 모든 Tensor는 NumPy로의 변환을 지원하며, (NumPy에서 Tensor로의) 반대 변환도 지원합니다.\n",
        "\n",
        "CUDA Tensors\n",
        "------------\n",
        "\n",
        ".to 메소드를 사용하여 Tensor를 어떠한 장치로도 옮길 수 있습니다.\n",
        "\n"
      ]
    },
    {
      "cell_type": "code",
      "metadata": {
        "id": "9CcL3nDUsncK",
        "colab": {
          "base_uri": "https://localhost:8080/"
        },
        "outputId": "7d2dcf61-a012-4ace-f17a-96ee771d89fc"
      },
      "source": [
        "import torch\n",
        "\n",
        "# 이 코드는 CUDA가 사용 가능한 환경에서만 실행합니다.\n",
        "# ``torch.device`` 를 사용하여 tensor를 GPU 안팎으로 이동해보겠습니다.\n",
        "\n",
        "x = torch.rand(4,4)\n",
        "if torch.cuda.is_available():\n",
        "    device = \"cuda:0\" # torch.device(\"cuda:0\")          # CUDA 장치 객체(device object)로\n",
        "    y = torch.ones_like(x, device=device)  # GPU 상에 직접적으로 tensor를 생성하거나\n",
        "    print(y)\n",
        "\n",
        "\n",
        "    x = x.to(device)                       # ``.to(\"cuda\")`` 를 사용하면 됩니다.\n",
        "    z = x + y\n",
        "    print(z)\n",
        "    print(z.to(\"cpu\", torch.double))       # ``.to`` 는 dtype도 함께 변경합니다!"
      ],
      "execution_count": null,
      "outputs": [
        {
          "output_type": "stream",
          "text": [
            "tensor([[1., 1., 1., 1.],\n",
            "        [1., 1., 1., 1.],\n",
            "        [1., 1., 1., 1.],\n",
            "        [1., 1., 1., 1.]], device='cuda:0')\n",
            "tensor([[1.4512, 1.0800, 1.8194, 1.3981],\n",
            "        [1.3423, 1.5176, 1.6927, 1.8044],\n",
            "        [1.6748, 1.4634, 1.7604, 1.0744],\n",
            "        [1.3394, 1.9641, 1.3050, 1.7403]], device='cuda:0')\n",
            "tensor([[1.4512, 1.0800, 1.8194, 1.3981],\n",
            "        [1.3423, 1.5176, 1.6927, 1.8044],\n",
            "        [1.6748, 1.4634, 1.7604, 1.0744],\n",
            "        [1.3394, 1.9641, 1.3050, 1.7403]], dtype=torch.float64)\n"
          ],
          "name": "stdout"
        }
      ]
    },
    {
      "cell_type": "code",
      "metadata": {
        "id": "eRUcwWN4yHzu"
      },
      "source": [
        "x = x.cuda()"
      ],
      "execution_count": null,
      "outputs": []
    },
    {
      "cell_type": "code",
      "metadata": {
        "id": "egPzONQ7MXUR"
      },
      "source": [
        ""
      ],
      "execution_count": null,
      "outputs": []
    }
  ]
}